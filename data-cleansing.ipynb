{
 "cells": [
  {
   "cell_type": "code",
   "execution_count": 2,
   "metadata": {},
   "outputs": [],
   "source": [
    "import pandas as pd\n",
    "import re"
   ]
  },
  {
   "cell_type": "code",
   "execution_count": null,
   "metadata": {},
   "outputs": [],
   "source": [
    "with open('唐詩三百首.txt', 'r') as f:\n",
    "    text = f.readlines()\n",
    "\n",
    "poem_titles = []\n",
    "authors = []\n",
    "poem_styles = []\n",
    "poem_texts = []\n",
    "\n",
    "for line in text:\n",
    "    line = line.strip()\n",
    "\n",
    "    if line.startswith('詩名:'):\n",
    "        poem_titles.append(line.replace('詩名:', ''))\n",
    "    elif line.startswith('作者:'):\n",
    "        authors.append(line.replace('作者:', ''))\n",
    "    elif line.startswith('詩體:'):\n",
    "        poem_styles.append(line.replace('詩體:', ''))\n",
    "    elif line.startswith('詩文:'):\n",
    "        poem_texts.append(line.replace('詩文:', ''))\n",
    "\n",
    "df = pd.DataFrame({\n",
    "    'Poem Title': poem_titles,\n",
    "    'Author': authors,\n",
    "    'Poem Style': poem_styles,\n",
    "    'Poem Text': poem_texts\n",
    "})\n",
    "\n",
    "print(df)"
   ]
  },
  {
   "cell_type": "code",
   "execution_count": null,
   "metadata": {},
   "outputs": [],
   "source": [
    "import re\n",
    "\n",
    "\n",
    "def remove_pattern(text):\n",
    "    cleaned_text = re.sub(r\"^\\(.*?\\)\", \"\", text)\n",
    "    return cleaned_text\n",
    "\n",
    "\n",
    "df[\"Poem Text\"] = df[\"Poem Text\"].apply(remove_pattern)\n",
    "\n",
    "df.to_csv(\"唐詩三百首.csv\")"
   ]
  },
  {
   "cell_type": "code",
   "execution_count": 16,
   "metadata": {},
   "outputs": [
    {
     "name": "stdout",
     "output_type": "stream",
     "text": [
      "    Poem Tune Author                                          Poem Text\n",
      "0         木蘭花    錢惟演  城上風光鶯語亂。城下煙波春拍岸。綠楊芳草幾時休，淚眼愁腸先已斷。○情懷漸覺成衰晚。鸞鏡朱顏驚...\n",
      "1         蘇幕遮    范仲淹  碧雲天，黃葉地。秋色連波，波上寒煙翠。山映斜陽天接水。芳草無情，更在斜陽外。○黯鄉魂，追旅思...\n",
      "2         漁家傲    范仲淹  塞下秋來風景異。衡陽雁去無留意。四面邊聲連角起。千嶂裏。長煙落日孤城閉。○濁酒一杯家萬里。燕...\n",
      "3         御街行    范仲淹  紛紛墜葉飄香砌。夜寂靜、寒聲碎。真珠簾捲玉樓空，天淡銀河垂地。年年今夜，月華如練，長是人千里...\n",
      "4         千秋歲     張先  數聲鶗鴃。又報芳菲歇。惜春更選殘紅折。雨輕風色暴，梅子青時節。永豐柳，無人盡日飛花雪。○莫把...\n",
      "..        ...    ...                                                ...\n",
      "305       醉花陰    李清照  薄霧濃雲愁永晝。瑞腦消金獸。佳節又重陽，玉枕紗廚，半夜涼初透。○東籬把酒黃昏後。有暗香盈袖。...\n",
      "306       聲聲慢    李清照  尋尋覓覓，冷冷清清，悽悽慘慘戚戚。乍暖還寒時候，最難將息。三盃兩盞淡酒，怎敵他、晚來風急。雁...\n",
      "307       念奴嬌    李清照  蕭條庭院，又斜風細雨，重門須閉。寵柳嬌花寒食近，種種惱人天氣。險韻詩成，扶頭酒醒，別是閒滋味...\n",
      "308       永遇樂    李清照  落日鎔金，暮雲合璧，人在何處。染柳煙濃。吹梅笛怨，春意知幾許。元宵佳節，融和天氣，次第豈無風...\n",
      "309       浣溪沙    李清照  髻子傷春懶更梳。晚風庭院落梅初。淡雲來往月疏疏。○玉鴨熏鑪閒瑞腦，朱櫻斗帳掩流蘇。通犀還解辟寒無。\n",
      "\n",
      "[310 rows x 3 columns]\n"
     ]
    }
   ],
   "source": [
    "with open(\"宋詞三百首.txt\", \"r\") as f:\n",
    "    text = f.readlines()\n",
    "\n",
    "poem_tunes = []\n",
    "authors = []\n",
    "poem_texts = []\n",
    "\n",
    "for line in text:\n",
    "    line = line.strip()\n",
    "\n",
    "    if line.startswith(\"詞牌:\"):\n",
    "        poem_tunes.append(line.replace(\"詞牌:\", \"\"))\n",
    "    elif line.startswith(\"作者:\"):\n",
    "        authors.append(line.replace(\"作者:\", \"\"))\n",
    "    elif line.startswith(\"詞文:\"):\n",
    "        poem_texts.append(line.replace(\"詞文:\", \"\"))\n",
    "\n",
    "df = pd.DataFrame({\"Poem Tune\": poem_tunes, \"Author\": authors, \"Poem Text\": poem_texts})\n",
    "\n",
    "print(df)\n",
    "df.to_csv(\"宋詞三百首.csv\")"
   ]
  }
 ],
 "metadata": {
  "kernelspec": {
   "display_name": "Python 3",
   "language": "python",
   "name": "python3"
  },
  "language_info": {
   "codemirror_mode": {
    "name": "ipython",
    "version": 3
   },
   "file_extension": ".py",
   "mimetype": "text/x-python",
   "name": "python",
   "nbconvert_exporter": "python",
   "pygments_lexer": "ipython3",
   "version": "3.10.7"
  }
 },
 "nbformat": 4,
 "nbformat_minor": 2
}
